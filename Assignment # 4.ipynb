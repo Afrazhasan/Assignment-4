{
 "cells": [
  {
   "cell_type": "code",
   "execution_count": 1,
   "metadata": {},
   "outputs": [],
   "source": [
    "#1\n",
    "rivers={\n",
    "    \"murray\":\"Australia\",\n",
    "    \"indus river\":\"Pakistan\",\n",
    "    \"colombia river\":\"canada\",\n",
    "    \"rhine\":\"germany\",\n",
    "    \"seine\":\"france\",\n",
    "    \"nile\":\"egypt\",\n",
    "    \"congo\":\"south africa\",\n",
    "    \"allia\":\"rome\"\n",
    "} "
   ]
  },
  {
   "cell_type": "code",
   "execution_count": 2,
   "metadata": {},
   "outputs": [
    {
     "name": "stdout",
     "output_type": "stream",
     "text": [
      "murray runs through Australia\n",
      "river :  murray\n",
      "Location : Australia\n",
      "indus river runs through Pakistan\n",
      "river :  indus river\n",
      "Location : Pakistan\n",
      "colombia river runs through canada\n",
      "river :  colombia river\n",
      "Location : canada\n",
      "rhine runs through germany\n",
      "river :  rhine\n",
      "Location : germany\n",
      "seine runs through france\n",
      "river :  seine\n",
      "Location : france\n",
      "nile runs through egypt\n",
      "river :  nile\n",
      "Location : egypt\n",
      "congo runs through south africa\n",
      "river :  congo\n",
      "Location : south africa\n",
      "allia runs through rome\n",
      "river :  allia\n",
      "Location : rome\n"
     ]
    }
   ],
   "source": [
    "for a,j in rivers.items():\n",
    "    b=print(a,\"runs through\",j)\n",
    "    y=print(\"river : \",a)\n",
    "    u=print(\"Location :\",j)\n",
    "    \n",
    "    \n",
    "            \n",
    "            "
   ]
  },
  {
   "cell_type": "code",
   "execution_count": 4,
   "metadata": {},
   "outputs": [
    {
     "name": "stdout",
     "output_type": "stream",
     "text": [
      "first nameafraz\n",
      "Last namehasan\n",
      "age? 22\n",
      "city?karachi\n"
     ]
    },
    {
     "data": {
      "text/plain": [
       "{'F_name': 'afraz', 'L_name': 'hasan', 'age': '22', 'city': 'karachi'}"
      ]
     },
     "execution_count": 4,
     "metadata": {},
     "output_type": "execute_result"
    }
   ],
   "source": [
    "fname=input(\"first name\") #PART_2A\n",
    "Lname=input(\"Last name\")\n",
    "agee=input(\"age? \")\n",
    "city= input(\"city?\")\n",
    "person={\n",
    "    \"F_name\":fname,\n",
    "    \"L_name\":Lname,\n",
    "    \"age\":agee,\n",
    "    \"city\":city\n",
    "    \n",
    "}\n",
    "person"
   ]
  },
  {
   "cell_type": "code",
   "execution_count": 5,
   "metadata": {},
   "outputs": [
    {
     "name": "stdout",
     "output_type": "stream",
     "text": [
      "Abbas Hasan, of Karachi, is 23 years old.\n",
      "Smith Camaroon, of Jersey, is 16 years old.\n",
      "Whiliams Peres, of Alaska, is 48 years old.\n"
     ]
    }
   ],
   "source": [
    "people=[] #PART_2B\n",
    "person = {\n",
    "    'first_name': 'Abbas',\n",
    "    'last_name': 'Hasan',\n",
    "    'age': 23,\n",
    "    'city': 'karachi',\n",
    "    }\n",
    "people.append(person)\n",
    "\n",
    "person = {\n",
    "    'first_name': 'smith',\n",
    "    'last_name': 'camaroon',\n",
    "    'age': 16,\n",
    "    'city': 'jersey',\n",
    "    }\n",
    "people.append(person)\n",
    "\n",
    "person = {\n",
    "    'first_name': 'whiliams',\n",
    "    'last_name': 'peres',\n",
    "    'age': 48,\n",
    "    'city': 'alaska',\n",
    "    }\n",
    "people.append(person)\n",
    "\n",
    "# Display all of the information in the dictionary.\n",
    "for person in people:\n",
    "    name = person['first_name'].title() + \" \" + person['last_name'].title()\n",
    "    age = str(person['age'])\n",
    "    city = person['city'].title()\n",
    "    \n",
    "    print(name + \", of \" + city + \", is \" + age + \" years old.\")"
   ]
  },
  {
   "cell_type": "code",
   "execution_count": 7,
   "metadata": {},
   "outputs": [],
   "source": [
    "city={\n",
    "    \"melborne\":{\"population\":\"4.936M\",\n",
    "                \n",
    "                \"fact\":\"largest tram system\"\n",
    "                ,\"country\":\"Australia\"},\n",
    "    \"Karachi\":{\"country\":\"Pakistan\",\"population\":\"14M\",\"fact\":\"It is sixth largest city\"},\"Berlin\":{\"population\":\"3M\",\"country\":\"germany\",\"fact\":\"have Tallest people\"}\n",
    "    \n",
    "    \n",
    "}\n"
   ]
  },
  {
   "cell_type": "code",
   "execution_count": 8,
   "metadata": {},
   "outputs": [
    {
     "data": {
      "text/plain": [
       "{'melborne': {'population': '4.936M',\n",
       "  'fact': 'largest tram system',\n",
       "  'country': 'Australia'},\n",
       " 'Karachi': {'country': 'Pakistan',\n",
       "  'population': '14M',\n",
       "  'fact': 'It is sixth largest city'},\n",
       " 'Berlin': {'population': '3M',\n",
       "  'country': 'germany',\n",
       "  'fact': 'have Tallest people'}}"
      ]
     },
     "execution_count": 8,
     "metadata": {},
     "output_type": "execute_result"
    }
   ],
   "source": [
    "city"
   ]
  },
  {
   "cell_type": "code",
   "execution_count": 9,
   "metadata": {},
   "outputs": [
    {
     "name": "stdout",
     "output_type": "stream",
     "text": [
      "melborne is located in Australia The fact about this city is , Largest Tram System & the Population is  4.936M\n",
      "Karachi is located in Pakistan The fact about this city is , It Is Sixth Largest City & the Population is  14M\n",
      "Berlin is located in Germany The fact about this city is , Have Tallest People & the Population is  3M\n"
     ]
    }
   ],
   "source": [
    "for cityi, cityinfo in city.items():\n",
    "    country=cityinfo[\"country\"].title()\n",
    "    fact=cityinfo[\"fact\"].title()\n",
    "    population=cityinfo[\"population\"].title()\n",
    "    \n",
    "    print(cityi,\"is located in\",country,\"The fact about this city is ,\",fact,\"& the Population is \",population)"
   ]
  },
  {
   "cell_type": "code",
   "execution_count": 10,
   "metadata": {},
   "outputs": [
    {
     "name": "stdout",
     "output_type": "stream",
     "text": [
      "dic1 = {1: 10, 2: 20}\n",
      "dic2 = {3: 30, 4: 40}\n",
      "dic3 = {5: 50, 6: 60}\n"
     ]
    }
   ],
   "source": [
    "numbers={\n",
    "    \n",
    "    \"dic1\":{1:10,2:20},\n",
    "    \"dic2\":{3:30,4:40},\n",
    "    \"dic3\":{5:50,6:60}\n",
    "}\n",
    "\n",
    "for a,b in numbers.items():\n",
    "    print(a,\"=\",b)"
   ]
  },
  {
   "cell_type": "code",
   "execution_count": 11,
   "metadata": {},
   "outputs": [
    {
     "name": "stdout",
     "output_type": "stream",
     "text": [
      "Expected Dictionary\n"
     ]
    },
    {
     "data": {
      "text/plain": [
       "{1: 10, 2: 20, 3: 30, 4: 40, 5: 50, 6: 60}"
      ]
     },
     "execution_count": 11,
     "metadata": {},
     "output_type": "execute_result"
    }
   ],
   "source": [
    "print(\"Expected Dictionary\")\n",
    "    \n",
    "numbers[\"dic1\"].update(numbers[\"dic2\"])\n",
    "numbers[\"dic1\"].update(numbers[\"dic3\"])\n",
    "numbers[\"dic1\"]\n"
   ]
  },
  {
   "cell_type": "code",
   "execution_count": 12,
   "metadata": {},
   "outputs": [
    {
     "name": "stdout",
     "output_type": "stream",
     "text": [
      "give me a wordwordss\n",
      "{'w': 1, 'o': 1, 'r': 1, 'd': 1, 's': 2}\n"
     ]
    }
   ],
   "source": [
    "str1 = input(\"give me a word\") #assignment5\n",
    "my_dict = {}\n",
    "for letter in str1:\n",
    "    my_dict[letter] = my_dict.get(letter, 0) + 1\n",
    "print(my_dict)"
   ]
  },
  {
   "cell_type": "code",
   "execution_count": 22,
   "metadata": {},
   "outputs": [],
   "source": [
    "numbaz={\n",
    "    \"x\":[11,12,13,14,15,16,17,18,19,20],\n",
    "    \"y\":[21,22,23,24,25,26,27,28,29,30],\n",
    "    \"z\":[31,32,33,34,35,36,37,38,39,40]\n",
    "    \n",
    "}"
   ]
  },
  {
   "cell_type": "code",
   "execution_count": 27,
   "metadata": {},
   "outputs": [
    {
     "name": "stdout",
     "output_type": "stream",
     "text": [
      "{'x': [11, 12, 13, 14, 15, 16, 17, 18, 19, 20], 'y': [21, 22, 23, 24, 25, 26, 27, 28, 29, 30], 'z': [31, 32, 33, 34, 35, 36, 37, 38, 39, 40]}\n",
      "\n",
      "[15]\n",
      "[25]\n",
      "[35]\n",
      "\n",
      "x has a value [11, 12, 13, 14, 15, 16, 17, 18, 19, 20]\n",
      "y has a value [21, 22, 23, 24, 25, 26, 27, 28, 29, 30]\n",
      "z has a value [31, 32, 33, 34, 35, 36, 37, 38, 39, 40]\n"
     ]
    }
   ],
   "source": [
    "print(numbaz)\n",
    "print(\"\")\n",
    "print(numbaz[\"x\"][4:5]) #slicing + dict + lists\n",
    "print(numbaz[\"y\"][4:5])\n",
    "print(numbaz[\"z\"][4:5])\n",
    "print(\"\")\n",
    "for a,z in numbaz.items():\n",
    "    print(a,\"has a value\",z)"
   ]
  },
  {
   "cell_type": "code",
   "execution_count": 28,
   "metadata": {},
   "outputs": [
    {
     "name": "stdout",
     "output_type": "stream",
     "text": [
      "banana\n",
      "Price 4\n",
      "apple\n",
      "Price 2\n",
      "orange\n",
      "Price 1.5\n",
      "pear\n",
      "Price 3\n"
     ]
    }
   ],
   "source": [
    "price={\n",
    "    \n",
    "    \"banana\":4,\n",
    "    \"apple\":2,\n",
    "    \"orange\":1.5,\n",
    "    \"pear\":3\n",
    "}\n",
    "for a,b in price.items():\n",
    "    print(a)\n",
    "    print(\"Price\",b) "
   ]
  },
  {
   "cell_type": "code",
   "execution_count": 31,
   "metadata": {},
   "outputs": [
    {
     "name": "stdout",
     "output_type": "stream",
     "text": [
      "banana\n",
      "Price 4\n",
      "apple\n",
      "Price 2\n",
      "orange\n",
      "Price 1.5\n",
      "pear\n",
      "Price 3\n",
      "If we sold  all of our product we would make:  48.5 $\n"
     ]
    }
   ],
   "source": [
    "price={\n",
    "    \n",
    "    \"banana\":4,\n",
    "    \"apple\":2,\n",
    "    \"orange\":1.5,\n",
    "    \"pear\":3\n",
    "}\n",
    "for a,b in price.items():\n",
    "    print(a)\n",
    "    print(\"Price\",b)\n",
    "    \n",
    "appleq=4*price[\"apple\"]\n",
    "orangeq=5*price[\"orange\"]\n",
    "pearq=7*price[\"pear\"]\n",
    "bananaq=3*price[\"banana\"]\n",
    "total=appleq+orangeq+pearq+bananaq;\n",
    "print(\"If we sold  all of our product we would make: \",total,\"$\")"
   ]
  },
  {
   "cell_type": "code",
   "execution_count": 32,
   "metadata": {},
   "outputs": [
    {
     "name": "stdout",
     "output_type": "stream",
     "text": [
      "{'M': 1, 'I': 4, 'P': 2, 'S': 4}\n"
     ]
    }
   ],
   "source": [
    "values={\"M\":0,\"I\":0,\"P\":0,\"S\":0}\n",
    "word=\"MISSISSIPPI\"\n",
    "for i in word:\n",
    "    if i==\"M\":\n",
    "        values[\"M\"]=values[\"M\"]+1\n",
    "    elif i==\"I\":\n",
    "        values[\"I\"]=values[\"I\"]+1\n",
    "    elif i==\"P\":\n",
    "        values[\"P\"]=values[\"P\"]+1\n",
    "    elif i==\"S\":\n",
    "        values[\"S\"]=values[\"S\"]+1\n",
    "print(values)"
   ]
  },
  {
   "cell_type": "code",
   "execution_count": 33,
   "metadata": {},
   "outputs": [],
   "source": [
    "numba={\"a\":1,\"b\":2,\"c\":-4,\"d\":6,\"e\":-9,\"f\":-7,\"g\":-3}"
   ]
  },
  {
   "cell_type": "code",
   "execution_count": 34,
   "metadata": {},
   "outputs": [
    {
     "data": {
      "text/plain": [
       "{'a': 1, 'b': 2, 'c': -4, 'd': 6, 'e': -9, 'f': -7, 'g': -3}"
      ]
     },
     "execution_count": 34,
     "metadata": {},
     "output_type": "execute_result"
    }
   ],
   "source": [
    "numba"
   ]
  },
  {
   "cell_type": "code",
   "execution_count": 40,
   "metadata": {},
   "outputs": [
    {
     "name": "stdout",
     "output_type": "stream",
     "text": [
      "ALL POSITIVE VALUES\n",
      "a : 1\n",
      "b : 2\n",
      "d : 6\n"
     ]
    }
   ],
   "source": [
    "print(\"ALL POSITIVE VALUES\")\n",
    "for a,j in numba.items():\n",
    "    if j>0:\n",
    "        print(a,\":\",j)"
   ]
  },
  {
   "cell_type": "code",
   "execution_count": 41,
   "metadata": {},
   "outputs": [],
   "source": [
    "#assigment10\n",
    "information={\n",
    "    1:[\"sarah\",21,\"Data Mining\"],\n",
    "    2:[\"James\",22,\"linear regration\"],\n",
    "    3:[\"Asmar\",18,\"statistics\"]\n",
    "    \n",
    "    \n",
    "}"
   ]
  },
  {
   "cell_type": "code",
   "execution_count": 42,
   "metadata": {},
   "outputs": [
    {
     "data": {
      "text/plain": [
       "{1: ['sarah', 21, 'Data Mining'],\n",
       " 2: ['James', 22, 'linear regration'],\n",
       " 3: ['Asmar', 18, 'statistics']}"
      ]
     },
     "execution_count": 42,
     "metadata": {},
     "output_type": "execute_result"
    }
   ],
   "source": [
    "information"
   ]
  },
  {
   "cell_type": "code",
   "execution_count": null,
   "metadata": {},
   "outputs": [],
   "source": []
  }
 ],
 "metadata": {
  "kernelspec": {
   "display_name": "Python 3",
   "language": "python",
   "name": "python3"
  },
  "language_info": {
   "codemirror_mode": {
    "name": "ipython",
    "version": 3
   },
   "file_extension": ".py",
   "mimetype": "text/x-python",
   "name": "python",
   "nbconvert_exporter": "python",
   "pygments_lexer": "ipython3",
   "version": "3.7.4"
  }
 },
 "nbformat": 4,
 "nbformat_minor": 2
}
